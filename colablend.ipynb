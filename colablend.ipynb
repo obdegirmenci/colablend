{
  "nbformat": 4,
  "nbformat_minor": 0,
  "metadata": {
    "colab": {
      "name": "colablend.ipynb",
      "private_outputs": true,
      "provenance": [],
      "collapsed_sections": [],
      "machine_shape": "hm",
      "toc_visible": true,
      "include_colab_link": true
    },
    "kernelspec": {
      "name": "python3",
      "display_name": "Python 3"
    },
    "accelerator": "GPU"
  },
  "cells": [
    {
      "cell_type": "markdown",
      "metadata": {
        "id": "view-in-github",
        "colab_type": "text"
      },
      "source": [
        "<a href=\"https://colab.research.google.com/github/obdegirmenci/colablend/blob/master/colablend.ipynb\" target=\"_parent\"><img src=\"https://colab.research.google.com/assets/colab-badge.svg\" alt=\"Open In Colab\"/></a>"
      ]
    },
    {
      "cell_type": "markdown",
      "source": [
        "# Check Hardware"
      ],
      "metadata": {
        "id": "l7XaeFHvFqFU"
      }
    },
    {
      "cell_type": "code",
      "source": [
        "!nvidia-smi -q -i 0 | grep \"Product Name\""
      ],
      "metadata": {
        "id": "uVpVp9PpFyy9"
      },
      "execution_count": null,
      "outputs": []
    },
    {
      "cell_type": "markdown",
      "metadata": {
        "id": "JhKyQE_C19a4"
      },
      "source": [
        "#Connect to Google Drive"
      ]
    },
    {
      "cell_type": "markdown",
      "metadata": {
        "id": "bN7GH5sr-Zb0"
      },
      "source": [
        "Specify your desired blender version and the path to your blend file within google drive."
      ]
    },
    {
      "cell_type": "code",
      "metadata": {
        "id": "KBF6fUHMqm-_"
      },
      "source": [
        "from google.colab import drive\n",
        "drive.mount('/gdrive', force_remount=True)"
      ],
      "execution_count": null,
      "outputs": []
    },
    {
      "cell_type": "markdown",
      "source": [
        "# Settings"
      ],
      "metadata": {
        "id": "l0YvORjcFnEh"
      }
    },
    {
      "cell_type": "code",
      "metadata": {
        "id": "8dFNjYGTgNjR"
      },
      "source": [
        "#@title # **Blender** Configuration { form-width: \"35%\" }\n",
        "#@markdown ## *Use the form that has various setup options* <br>\n",
        "#@markdown Please check the [latest](https://wiki.blender.org/wiki/Reference/Release_Notes/3.0/Corrective_Releases) version before beginning. [2.83 LTS](https://www.blender.org/download/lts/2-83/) & [2.93 LTS](https://www.blender.org/download/lts/2-89/)\n",
        "\n",
        "#@markdown ## **Colab Definitions**\n",
        "blender_version = '3.0.1' #@param [\"2.83.19-LTS\", \"2.93.8-LTS\", \"3.0.1\"] {allow-input: false}\n",
        "blend_path = 'Blender/projects/'  #@param {type: \"string\"}\n",
        "output_path = 'Blender/projects/output/'  #@param {type: \"string\"}\n",
        "log_path = 'Blender/logs/log.txt'  #@param {type: \"string\"}\n",
        "root_path = '/gdrive/My Drive/'  #@param {type: \"string\"}\n",
        "#@markdown ---\n",
        "#@markdown ## **Blender Preferences**\n",
        "#@markdown ### Cycles Render Devices\n",
        "UseGPU = True #@param {type:\"boolean\"}\n",
        "UseCPU = True #@param {type:\"boolean\"}\n",
        "#@markdown ---\n",
        "#@markdown ## **Render Properties**\n",
        "RenderEngine = 'CYCLES' #@param [\"CYCLES\"] {allow-input: false}\n",
        "FeatureSet =  'SUPPORTED' #@param [\"SUPPORTED\", \"EXPERIMENTAL\"] {allow-input: false}\n",
        "Device =  'GPU' #@param [\"GPU\", \"CPU\"] {allow-input: false}\n",
        "#@markdown ---\n",
        "#@markdown ### Sampling\n",
        "MaxSamples = 400 #@param {type: \"integer\"}\n",
        "\n",
        "# Light Paths\n",
        "# TODO\n",
        "\n",
        "#@markdown ---\n",
        "#@markdown ### Performance\n",
        "#@markdown #### Threads\n",
        "ThreadsMode = 'AUTO' #@param [\"AUTO\"] {allow-input: false}\n",
        "#@markdown #### Memory\n",
        "UseAutoTile = True #@param {type: \"boolean\"}\n",
        "TileSize = '256' #@param [16, 32, 64, 128, 256, 512] {allow-input: false}\n",
        "#@markdown #### Acceleration Structure\n",
        "UseSpatialSplits = True #@param {type: \"boolean\"}\n",
        "#@markdown #### Final Render\n",
        "PersistentData = False #@param {type: \"boolean\"}\n",
        "#@markdown ---\n",
        "\n",
        "#@markdown ## **Output Properties**\n",
        "#@markdown ### Format\n",
        "# Just basic formats. The others (like Blender's presets) can be added later after after aspect ratio definitions.\n",
        "Resolution = '1920x1080' #@param [\"640x360\", \"1280x720\", \"1920x1080\", \"2560x1440\", \"3840x2160\"] {allow-input: false}\n",
        "calcRes = Resolution.split('x')\n",
        "ResolutionX = calcRes[0]\n",
        "ResolutionY = calcRes[1]\n",
        "\n",
        "Percentage = 100 #@param {type:\"slider\", min:25, max:200, step:25}\n",
        "\n",
        "# Frame Range\n",
        "# TODO\n",
        "\n",
        "# Output\n",
        "# TODO\n",
        "\n",
        "#@markdown ### Post Processing\n",
        "Compositing = True #@param {type: \"boolean\"}\n",
        "\n",
        "#@markdown ## **Scene Properties**\n",
        "#@markdown ### Scene\n",
        "Camera = 'Camera.001' #@param {type: \"string\"}\n",
        "\n",
        "#@markdown ---\n"
      ],
      "execution_count": null,
      "outputs": []
    },
    {
      "cell_type": "markdown",
      "metadata": {
        "id": "UUwwvaq5BxzN"
      },
      "source": [
        "Download, unpack and move Blender"
      ]
    },
    {
      "cell_type": "code",
      "metadata": {
        "id": "OQ54OjLVjb26"
      },
      "source": [
        "blender_mirrors = {'2.83.19-LTS': 'https://ftp.nluug.nl/pub/graphics/blender/release/Blender2.83/blender-2.83.19-linux-x64.tar.xz',\n",
        "                   '2.93.8-LTS' : 'https://ftp.nluug.nl/pub/graphics/blender/release/Blender2.93/blender-2.93.8-linux-x64.tar.xz',\n",
        "                   '3.0.1'      : 'https://ftp.nluug.nl/pub/graphics/blender/release/Blender3.0/blender-3.0.1-linux-x64.tar.xz'}\n",
        "\n",
        "isVerExist = blender_version in blender_mirrors\n",
        "\n",
        "if isVerExist:\n",
        "    blender_url = blender_mirrors[blender_version]\n",
        "    !mkdir $blender_version\n",
        "    !wget -O '{blender_version}.tar.xz' -nc $blender_url\n",
        "    !tar xf '{blender_version}.tar.xz' -C ./$blender_version --strip-components=1\n",
        "else:\n",
        "    print (\"Invalid Blender version. Please check the mirrors.\")"
      ],
      "execution_count": null,
      "outputs": []
    },
    {
      "cell_type": "markdown",
      "metadata": {
        "id": "s3uIDMZLbYOE"
      },
      "source": [
        "This block is required as some weird behaviors with libtcmalloc appeared in the colab VM"
      ]
    },
    {
      "cell_type": "code",
      "metadata": {
        "id": "h6vohA2q2BDF"
      },
      "source": [
        "import os\n",
        "\n",
        "os.environ[\"LD_PRELOAD\"] = \"\"\n",
        "\n",
        "!apt update\n",
        "!apt remove libtcmalloc-minimal4\n",
        "!apt install libtcmalloc-minimal4\n",
        "os.environ[\"LD_PRELOAD\"] = \"/usr/lib/x86_64-linux-gnu/libtcmalloc_minimal.so.4.3.0\"\n",
        "\n",
        "!echo $LD_PRELOAD"
      ],
      "execution_count": null,
      "outputs": []
    },
    {
      "cell_type": "code",
      "metadata": {
        "id": "RU3p_G4hDk97"
      },
      "source": [
        "!apt install libboost-all-dev\n",
        "!apt install libgl1-mesa-dev\n",
        "!apt install libglu1-mesa libsm-dev"
      ],
      "execution_count": null,
      "outputs": []
    },
    {
      "cell_type": "markdown",
      "source": [
        "# Render Config\n",
        "Required for Blender to use the GPU as expected. In addition you can add custom properties to here.\n",
        "\n",
        "[Blender CLI Wiki](https://docs.blender.org/manual/en/latest/advanced/command_line/arguments.html)"
      ],
      "metadata": {
        "id": "RazfUKL3vPd7"
      }
    },
    {
      "cell_type": "code",
      "metadata": {
        "id": "E41P1QS9vYf8"
      },
      "source": [
        "#Custom Properties\n",
        "data = \"import re\\n\"+\\\n",
        "    \"import bpy\\n\"+\\\n",
        "    \"scene = bpy.context.scene\\n\"+\\\n",
        "    \"scene.cycles.device = '\"+str(Device)+\"'\\n\"+\\\n",
        "    \"objects = bpy.data.objects\\n\"+\\\n",
        "    \"collections = bpy.context.view_layer.layer_collection\\n\"+\\\n",
        "    \"prefs = bpy.context.preferences\\n\"+\\\n",
        "    \"prefs.addons['cycles'].preferences.get_devices()\\n\"+\\\n",
        "    \"cprefs = prefs.addons['cycles'].preferences\\n\"+\\\n",
        "    \"print(cprefs)\\n\"+\\\n",
        "    \"# Attempt to set GPU device types if available\\n\"+\\\n",
        "    \"for compute_device_type in ('CUDA', 'OPENCL', 'NONE'):\\n\"+\\\n",
        "    \"    try:\\n\"+\\\n",
        "    \"        cprefs.compute_device_type = compute_device_type\\n\"+\\\n",
        "    \"        print('Device found',compute_device_type)\\n\"+\\\n",
        "    \"        break\\n\"+\\\n",
        "    \"    except TypeError:\\n\"+\\\n",
        "    \"        pass\\n\"+\\\n",
        "    \"for scene in bpy.data.scenes:\\n\"+\\\n",
        "    \"    scene.cycles.feature_set = '\"+str(FeatureSet)+\"'\\n\"+\\\n",
        "    \"    scene.cycles.samples = \"+str(MaxSamples)+\"\\n\"+\\\n",
        "    \"    scene.render.threads_mode = '\"+str(ThreadsMode)+\"'\\n\"+\\\n",
        "    \"    scene.cycles.use_auto_tile = \"+str(UseAutoTile)+\"\\n\"+\\\n",
        "    \"    scene.cycles.tile_size = \"+str(TileSize)+\"\\n\"+\\\n",
        "    \"    #scene.render.tile_x = \"+str(TileSize)+\"\\n\"+\\\n",
        "    \"    #scene.render.tile_y = \"+str(TileSize)+\"\\n\"+\\\n",
        "    \"    scene.cycles.debug_use_spatial_splits = \"+str(UseSpatialSplits)+\"\\n\"+\\\n",
        "    \"    scene.render.use_persistent_data = \"+str(PersistentData)+\"\\n\"+\\\n",
        "    \"    scene.render.resolution_x = \"+str(ResolutionX)+\"\\n\"+\\\n",
        "    \"    scene.render.resolution_y = \"+str(ResolutionY)+\"\\n\"+\\\n",
        "    \"    scene.render.resolution_percentage = \"+str(Percentage)+\"\\n\"+\\\n",
        "    \"    #scene.render.use_compositing = \"+str(Compositing)+\"\\n\"+\\\n",
        "    \"    scene.camera = objects['\"+str(Camera)+\"']\\n\"+\\\n",
        "    \"\\n\"+\\\n",
        "    \"# bpy.context.objects['Cube'].hide_render = True\\n\"+\\\n",
        "    \"# for collection in collections:\\n\"+\\\n",
        "    \"#    collection['Volume'].hide_render = True\\n\"+\\\n",
        "    \"# bpy.ops.collection.objects_remove(collection='Volume')\\n\"+\\\n",
        "    \"\\n\"+\\\n",
        "    \"# Enable all CPU and GPU devices\\n\"+\\\n",
        "    \"for device in cprefs.devices:\\n\"+\\\n",
        "    \"    if not re.match('intel', device.name, re.I):\\n\"+\\\n",
        "    \"        print('Activating',device)\\n\"+\\\n",
        "    \"        device.use = \"+str(UseGPU)+\"\\n\"+\\\n",
        "    \"    else:\\n\"+\\\n",
        "    \"        device.use = \"+str(UseCPU)+\"\\n\"\n",
        "with open('setgpu.py', 'w') as f:\n",
        "    f.write(data)"
      ],
      "execution_count": null,
      "outputs": []
    },
    {
      "cell_type": "markdown",
      "metadata": {
        "id": "EVTxsg6J8E1A"
      },
      "source": [
        "#Render animation\n",
        "\n",
        "Use this if you want to render all Frames\n",
        "\n",
        "Use `-s` to speficy the start frame.\n",
        "eg: `-s 10`\n",
        "\n",
        "Use `-e` to speficy the end frame.\n",
        "eg: `-e 20`\n",
        "\n",
        "**THE ORDER IS IMPORTANT. BOTH `-s` AND `-e` MUST BE SPEFICIED BEFORE `-a`**\n",
        "\n"
      ]
    },
    {
      "cell_type": "code",
      "metadata": {
        "id": "Fpk2w3yM8XqQ"
      },
      "source": [
        "!./$blender_version/blender -b -noaudio '{root_path}{blend_path}.blend' -P './setgpu.py' -E {RenderEngine} -o '{root_path}{output_path}' -a |& tee '{root_path}{log_path}'"
      ],
      "execution_count": null,
      "outputs": []
    },
    {
      "cell_type": "markdown",
      "metadata": {
        "id": "zMuGCuoX8o2x"
      },
      "source": [
        "#Render a frame\n",
        "\n",
        "Use to render a single frame.\n",
        "Specify the frame with `-f` *frame_number*"
      ]
    },
    {
      "cell_type": "code",
      "metadata": {
        "id": "VFVx8omJCGBN"
      },
      "source": [
        "!./$blender_version/blender -b -noaudio '{root_path}{blend_path}' -P './setgpu.py' -E {RenderEngine} -o '{root_path}{output_path}' -f 1 |& tee '{root_path}{log_path}'"
      ],
      "execution_count": null,
      "outputs": []
    }
  ]
}
